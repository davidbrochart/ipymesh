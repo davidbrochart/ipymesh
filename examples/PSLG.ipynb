{
 "cells": [
  {
   "cell_type": "code",
   "execution_count": 1,
   "metadata": {
    "hideOutput": true
   },
   "outputs": [
    {
     "data": {
      "application/vnd.jupyter.widget-view+json": {
       "model_id": "c2951f76136744e9bfaae76c3f6ad15b",
       "version_major": 2,
       "version_minor": 0
      },
      "text/html": [
       "<p>Failed to display Jupyter Widget of type <code>PSLGEditor</code>.</p>\n",
       "<p>\n",
       "  If you're reading this message in the Jupyter Notebook or JupyterLab Notebook, it may mean\n",
       "  that the widgets JavaScript is still loading. If this message persists, it\n",
       "  likely means that the widgets JavaScript library is either not installed or\n",
       "  not enabled. See the <a href=\"https://ipywidgets.readthedocs.io/en/stable/user_install.html\">Jupyter\n",
       "  Widgets Documentation</a> for setup instructions.\n",
       "</p>\n",
       "<p>\n",
       "  If you're reading this message in another frontend (for example, a static\n",
       "  rendering on GitHub or <a href=\"https://nbviewer.jupyter.org/\">NBViewer</a>),\n",
       "  it may mean that your frontend doesn't currently support widgets.\n",
       "</p>\n"
      ],
      "text/plain": [
       "PSLGEditor(Lx=10.0, boundaryTypes=[1, 2, 0], height=200, regionFlags=[1], regionTypes=[1, 2, 0], regions=[(0.4, 0.75)], segmentFlags=[1, 1, 1], segments=[(0, 1), (1, 2), (0, 2)], sync_toggle=True, vertexFlags=[1, 1, 1], vertices=[(0.1, 0.1), (0.1, 0.9), (0.9, 0.9)], width=800)"
      ]
     },
     "metadata": {},
     "output_type": "display_data"
    }
   ],
   "source": [
    "from ipymesh import PSLGEditor\n",
    "editor = PSLGEditor(vertices=[(0.1,0.1),\n",
    "                              (0.1,0.9),\n",
    "                              (0.9,0.9)],\n",
    "                   vertexFlags=[1,1,1],\n",
    "                   segments=[(0,1),\n",
    "                             (1,2),\n",
    "                             (0,2)],\n",
    "                   segmentFlags=[1,1,1],\n",
    "                   regions=[(0.4,0.75)],\n",
    "                   regionFlags=[1],\n",
    "                   regionTypes=[1,2,0],\n",
    "                   boundaryTypes=[1,2,0],\n",
    "                   Lx=10.0,\n",
    "                   Ly=1.0,\n",
    "                   width=800,\n",
    "                   height=200)\n",
    "editor"
   ]
  },
  {
   "cell_type": "code",
   "execution_count": 2,
   "metadata": {
    "hideOutput": true
   },
   "outputs": [
    {
     "name": "stdout",
     "output_type": "stream",
     "text": [
      "[(0.1, 0.1), (0.1, 0.9), (0.9, 0.9)] [(0, 1), (1, 2), (0, 2)] [(0.4, 0.75)] [] [1]\n"
     ]
    }
   ],
   "source": [
    "print editor.vertices, editor.segments, editor.regions, editor.holes, editor.regionFlags"
   ]
  },
  {
   "cell_type": "code",
   "execution_count": 3,
   "metadata": {
    "hideOutput": true
   },
   "outputs": [],
   "source": [
    "editor.holes=[]; editor.sync();"
   ]
  },
  {
   "cell_type": "code",
   "execution_count": 3,
   "metadata": {
    "collapsed": true
   },
   "outputs": [],
   "source": [
    "from ipywidgets import IntSlider"
   ]
  },
  {
   "cell_type": "code",
   "execution_count": 4,
   "metadata": {},
   "outputs": [
    {
     "data": {
      "application/vnd.jupyter.widget-view+json": {
       "model_id": "0934d2c6723644569b5ca11ccaf4f7c4",
       "version_major": 2,
       "version_minor": 0
      },
      "text/html": [
       "<p>Failed to display Jupyter Widget of type <code>IntSlider</code>.</p>\n",
       "<p>\n",
       "  If you're reading this message in the Jupyter Notebook or JupyterLab Notebook, it may mean\n",
       "  that the widgets JavaScript is still loading. If this message persists, it\n",
       "  likely means that the widgets JavaScript library is either not installed or\n",
       "  not enabled. See the <a href=\"https://ipywidgets.readthedocs.io/en/stable/user_install.html\">Jupyter\n",
       "  Widgets Documentation</a> for setup instructions.\n",
       "</p>\n",
       "<p>\n",
       "  If you're reading this message in another frontend (for example, a static\n",
       "  rendering on GitHub or <a href=\"https://nbviewer.jupyter.org/\">NBViewer</a>),\n",
       "  it may mean that your frontend doesn't currently support widgets.\n",
       "</p>\n"
      ],
      "text/plain": [
       "IntSlider(value=0)"
      ]
     },
     "metadata": {},
     "output_type": "display_data"
    }
   ],
   "source": [
    "IntSlider()"
   ]
  },
  {
   "cell_type": "code",
   "execution_count": null,
   "metadata": {},
   "outputs": [],
   "source": []
  }
 ],
 "metadata": {
  "kernelspec": {
   "display_name": "Python 2",
   "language": "python",
   "name": "python2"
  },
  "language_info": {
   "codemirror_mode": {
    "name": "ipython",
    "version": 2
   },
   "file_extension": ".py",
   "mimetype": "text/x-python",
   "name": "python",
   "nbconvert_exporter": "python",
   "pygments_lexer": "ipython2",
   "version": "2.7.11"
  }
 },
 "nbformat": 4,
 "nbformat_minor": 2
}
