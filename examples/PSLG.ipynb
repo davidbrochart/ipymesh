{
 "cells": [
  {
   "cell_type": "code",
   "execution_count": 1,
   "metadata": {},
   "outputs": [
    {
     "data": {
      "application/vnd.jupyter.widget-view+json": {
       "model_id": "27cf83183c2b4f33a481e553e5e99ca6"
      }
     },
     "metadata": {},
     "output_type": "display_data"
    }
   ],
   "source": [
    "from ipymesh import PSLGEditor\n",
    "editor = PSLGEditor(vertices=[(0.1,0.1),\n",
    "                              (0.1,0.9),\n",
    "                              (0.9,0.9)],\n",
    "                   vertexFlags=[1,1,1],\n",
    "                   segments=[(0,1),\n",
    "                             (1,2),\n",
    "                             (0,2)],\n",
    "                   segmentFlags=[1,1,1],\n",
    "                   regions=[(0.4,0.75)],\n",
    "                   regionFlags=[1],\n",
    "                   regionTypes=[1,2,0],\n",
    "                   boundaryTypes=[1,2,0])\n",
    "editor"
   ]
  },
  {
   "cell_type": "code",
   "execution_count": null,
   "metadata": {
    "collapsed": true
   },
   "outputs": [],
   "source": []
  }
 ],
 "metadata": {
  "kernelspec": {
   "display_name": "Python 2",
   "language": "python",
   "name": "python2"
  },
  "language_info": {
   "codemirror_mode": {
    "name": "ipython",
    "version": 2
   },
   "file_extension": ".py",
   "mimetype": "text/x-python",
   "name": "python",
   "nbconvert_exporter": "python",
   "pygments_lexer": "ipython2",
   "version": "2.7.11"
  }
 },
 "nbformat": 4,
 "nbformat_minor": 2
}
