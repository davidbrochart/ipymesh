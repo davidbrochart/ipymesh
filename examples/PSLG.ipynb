{
 "cells": [
  {
   "cell_type": "code",
   "execution_count": 6,
   "metadata": {},
   "outputs": [
    {
     "data": {
      "application/vnd.jupyter.widget-view+json": {
       "model_id": "c03f77cce2c14d5fb070abcc92d4a3e1"
      }
     },
     "metadata": {},
     "output_type": "display_data"
    }
   ],
   "source": [
    "from ipymesh import PSLGEditor\n",
    "editor = PSLGEditor(vertices=[(0.1,0.1),\n",
    "                              (0.1,0.9),\n",
    "                              (0.9,0.9)],\n",
    "                   vertexFlags=[1,1,1],\n",
    "                   segments=[(0,1),\n",
    "                             (1,2),\n",
    "                             (0,2)],\n",
    "                   segmentFlags=[1,1,1],\n",
    "                   regions=[(0.4,0.75)],\n",
    "                   regionFlags=[1],\n",
    "                   regionTypes=[1,2,0],\n",
    "                   boundaryTypes=[1,2,0])\n",
    "editor"
   ]
  },
  {
   "cell_type": "code",
   "execution_count": 7,
   "metadata": {},
   "outputs": [
    {
     "name": "stdout",
     "output_type": "stream",
     "text": [
      "[[0.1, 0.1], [0.1, 0.9], [0.9, 0.9], [0.90892578125, 0.0946875], [0.19392578125, 0.5596875], [0.29392578125, 0.4363541666666666], [0.4172591145833333, 0.5463541666666667], [0.3205924479166667, 0.6463541666666667]] [[0, 1], [1, 2], [0, 2], [2, 3], [0, 3], [4, 7], [4, 5], [5, 6], [6, 7]] [[0.4, 0.75], [0.4172591145833333, 0.21635416666666665]] [[0.29892578125, 0.5513541666666667]]\n"
     ]
    }
   ],
   "source": [
    "print editor.vertices, editor.segments, editor.regions, editor.holes"
   ]
  }
 ],
 "metadata": {
  "kernelspec": {
   "display_name": "Python 2",
   "language": "python",
   "name": "python2"
  },
  "language_info": {
   "codemirror_mode": {
    "name": "ipython",
    "version": 2
   },
   "file_extension": ".py",
   "mimetype": "text/x-python",
   "name": "python",
   "nbconvert_exporter": "python",
   "pygments_lexer": "ipython2",
   "version": "2.7.11"
  }
 },
 "nbformat": 4,
 "nbformat_minor": 2
}
